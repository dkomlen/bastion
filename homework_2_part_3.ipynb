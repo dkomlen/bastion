{
  "nbformat": 4,
  "nbformat_minor": 5,
  "metadata": {
    "kernelspec": {
      "display_name": "Python 3 (ipykernel)",
      "language": "python",
      "name": "python3"
    },
    "language_info": {
      "codemirror_mode": {
        "name": "ipython",
        "version": 3
      },
      "file_extension": ".py",
      "mimetype": "text/x-python",
      "name": "python",
      "nbconvert_exporter": "python",
      "pygments_lexer": "ipython3",
      "version": "3.9.5"
    },
    "colab": {
      "name": "homework_2_part_3.ipynb",
      "provenance": [],
      "include_colab_link": true
    }
  },
  "cells": [
    {
      "cell_type": "markdown",
      "metadata": {
        "id": "view-in-github",
        "colab_type": "text"
      },
      "source": [
        "<a href=\"https://colab.research.google.com/github/dkomlen/bastion/blob/master/homework_2_part_3.ipynb\" target=\"_parent\"><img src=\"https://colab.research.google.com/assets/colab-badge.svg\" alt=\"Open In Colab\"/></a>"
      ]
    },
    {
      "cell_type": "code",
      "metadata": {
        "id": "4d1b7c46"
      },
      "source": [
        "import numpy as np\n",
        "import pandas as pd\n",
        "from sklearn.decomposition import PCA\n",
        "from sklearn.manifold import MDS, TSNE\n",
        "%matplotlib inline"
      ],
      "id": "4d1b7c46",
      "execution_count": null,
      "outputs": []
    },
    {
      "cell_type": "code",
      "metadata": {
        "id": "39832df9"
      },
      "source": [
        "X = np.load('p2_unsupervised/X.npy')"
      ],
      "id": "39832df9",
      "execution_count": null,
      "outputs": []
    },
    {
      "cell_type": "code",
      "metadata": {
        "id": "900a90f1",
        "outputId": "5f80f36b-b9b4-4075-d72a-88684e0627b9"
      },
      "source": [
        "X.shape"
      ],
      "id": "900a90f1",
      "execution_count": null,
      "outputs": [
        {
          "data": {
            "text/plain": [
              "(2169, 45768)"
            ]
          },
          "execution_count": 3,
          "metadata": {},
          "output_type": "execute_result"
        }
      ]
    },
    {
      "cell_type": "code",
      "metadata": {
        "id": "cf948782"
      },
      "source": [
        "Xt = np.array([np.log2(xi+1) for xi in X])"
      ],
      "id": "cf948782",
      "execution_count": null,
      "outputs": []
    },
    {
      "cell_type": "code",
      "metadata": {
        "id": "35dd639e",
        "outputId": "30843554-e0bf-4c50-d5be-69c4653c6c53"
      },
      "source": [
        "max(Xt.T[0])"
      ],
      "id": "35dd639e",
      "execution_count": null,
      "outputs": [
        {
          "data": {
            "text/plain": [
              "5.972169178513185"
            ]
          },
          "execution_count": 5,
          "metadata": {},
          "output_type": "execute_result"
        }
      ]
    }
  ]
}